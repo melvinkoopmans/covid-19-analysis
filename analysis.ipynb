{
 "cells": [
  {
   "cell_type": "code",
   "execution_count": 2,
   "metadata": {},
   "outputs": [],
   "source": [
    "import os\n",
    "import numpy as np\n",
    "import pandas as pd\n",
    "import matplotlib.pyplot as plt\n",
    "\n",
    "%matplotlib inline"
   ]
  },
  {
   "cell_type": "code",
   "execution_count": 3,
   "metadata": {},
   "outputs": [
    {
     "data": {
      "text/html": [
       "<div>\n",
       "<style scoped>\n",
       "    .dataframe tbody tr th:only-of-type {\n",
       "        vertical-align: middle;\n",
       "    }\n",
       "\n",
       "    .dataframe tbody tr th {\n",
       "        vertical-align: top;\n",
       "    }\n",
       "\n",
       "    .dataframe thead th {\n",
       "        text-align: right;\n",
       "    }\n",
       "</style>\n",
       "<table border=\"1\" class=\"dataframe\">\n",
       "  <thead>\n",
       "    <tr style=\"text-align: right;\">\n",
       "      <th></th>\n",
       "      <th>Province/State</th>\n",
       "      <th>Country/Region</th>\n",
       "      <th>Lat</th>\n",
       "      <th>Long</th>\n",
       "      <th>1/22/20</th>\n",
       "      <th>1/23/20</th>\n",
       "      <th>1/24/20</th>\n",
       "      <th>1/25/20</th>\n",
       "      <th>1/26/20</th>\n",
       "      <th>1/27/20</th>\n",
       "      <th>...</th>\n",
       "      <th>3/2/20</th>\n",
       "      <th>3/3/20</th>\n",
       "      <th>3/4/20</th>\n",
       "      <th>3/5/20</th>\n",
       "      <th>3/6/20</th>\n",
       "      <th>3/7/20</th>\n",
       "      <th>3/8/20</th>\n",
       "      <th>3/9/20</th>\n",
       "      <th>3/10/20</th>\n",
       "      <th>3/11/20</th>\n",
       "    </tr>\n",
       "  </thead>\n",
       "  <tbody>\n",
       "    <tr>\n",
       "      <th>0</th>\n",
       "      <td>NaN</td>\n",
       "      <td>Thailand</td>\n",
       "      <td>15.0000</td>\n",
       "      <td>101.0000</td>\n",
       "      <td>2</td>\n",
       "      <td>3</td>\n",
       "      <td>5</td>\n",
       "      <td>7</td>\n",
       "      <td>8</td>\n",
       "      <td>8</td>\n",
       "      <td>...</td>\n",
       "      <td>43</td>\n",
       "      <td>43</td>\n",
       "      <td>43</td>\n",
       "      <td>47</td>\n",
       "      <td>48</td>\n",
       "      <td>50</td>\n",
       "      <td>50</td>\n",
       "      <td>50</td>\n",
       "      <td>53</td>\n",
       "      <td>59</td>\n",
       "    </tr>\n",
       "    <tr>\n",
       "      <th>1</th>\n",
       "      <td>NaN</td>\n",
       "      <td>Japan</td>\n",
       "      <td>36.0000</td>\n",
       "      <td>138.0000</td>\n",
       "      <td>2</td>\n",
       "      <td>1</td>\n",
       "      <td>2</td>\n",
       "      <td>2</td>\n",
       "      <td>4</td>\n",
       "      <td>4</td>\n",
       "      <td>...</td>\n",
       "      <td>274</td>\n",
       "      <td>293</td>\n",
       "      <td>331</td>\n",
       "      <td>360</td>\n",
       "      <td>420</td>\n",
       "      <td>461</td>\n",
       "      <td>502</td>\n",
       "      <td>511</td>\n",
       "      <td>581</td>\n",
       "      <td>639</td>\n",
       "    </tr>\n",
       "    <tr>\n",
       "      <th>2</th>\n",
       "      <td>NaN</td>\n",
       "      <td>Singapore</td>\n",
       "      <td>1.2833</td>\n",
       "      <td>103.8333</td>\n",
       "      <td>0</td>\n",
       "      <td>1</td>\n",
       "      <td>3</td>\n",
       "      <td>3</td>\n",
       "      <td>4</td>\n",
       "      <td>5</td>\n",
       "      <td>...</td>\n",
       "      <td>108</td>\n",
       "      <td>110</td>\n",
       "      <td>110</td>\n",
       "      <td>117</td>\n",
       "      <td>130</td>\n",
       "      <td>138</td>\n",
       "      <td>150</td>\n",
       "      <td>150</td>\n",
       "      <td>160</td>\n",
       "      <td>178</td>\n",
       "    </tr>\n",
       "    <tr>\n",
       "      <th>3</th>\n",
       "      <td>NaN</td>\n",
       "      <td>Nepal</td>\n",
       "      <td>28.1667</td>\n",
       "      <td>84.2500</td>\n",
       "      <td>0</td>\n",
       "      <td>0</td>\n",
       "      <td>0</td>\n",
       "      <td>1</td>\n",
       "      <td>1</td>\n",
       "      <td>1</td>\n",
       "      <td>...</td>\n",
       "      <td>1</td>\n",
       "      <td>1</td>\n",
       "      <td>1</td>\n",
       "      <td>1</td>\n",
       "      <td>1</td>\n",
       "      <td>1</td>\n",
       "      <td>1</td>\n",
       "      <td>1</td>\n",
       "      <td>1</td>\n",
       "      <td>1</td>\n",
       "    </tr>\n",
       "    <tr>\n",
       "      <th>4</th>\n",
       "      <td>NaN</td>\n",
       "      <td>Malaysia</td>\n",
       "      <td>2.5000</td>\n",
       "      <td>112.5000</td>\n",
       "      <td>0</td>\n",
       "      <td>0</td>\n",
       "      <td>0</td>\n",
       "      <td>3</td>\n",
       "      <td>4</td>\n",
       "      <td>4</td>\n",
       "      <td>...</td>\n",
       "      <td>29</td>\n",
       "      <td>36</td>\n",
       "      <td>50</td>\n",
       "      <td>50</td>\n",
       "      <td>83</td>\n",
       "      <td>93</td>\n",
       "      <td>99</td>\n",
       "      <td>117</td>\n",
       "      <td>129</td>\n",
       "      <td>149</td>\n",
       "    </tr>\n",
       "  </tbody>\n",
       "</table>\n",
       "<p>5 rows × 54 columns</p>\n",
       "</div>"
      ],
      "text/plain": [
       "  Province/State Country/Region      Lat      Long  1/22/20  1/23/20  1/24/20  \\\n",
       "0            NaN       Thailand  15.0000  101.0000        2        3        5   \n",
       "1            NaN          Japan  36.0000  138.0000        2        1        2   \n",
       "2            NaN      Singapore   1.2833  103.8333        0        1        3   \n",
       "3            NaN          Nepal  28.1667   84.2500        0        0        0   \n",
       "4            NaN       Malaysia   2.5000  112.5000        0        0        0   \n",
       "\n",
       "   1/25/20  1/26/20  1/27/20  ...  3/2/20  3/3/20  3/4/20  3/5/20  3/6/20  \\\n",
       "0        7        8        8  ...      43      43      43      47      48   \n",
       "1        2        4        4  ...     274     293     331     360     420   \n",
       "2        3        4        5  ...     108     110     110     117     130   \n",
       "3        1        1        1  ...       1       1       1       1       1   \n",
       "4        3        4        4  ...      29      36      50      50      83   \n",
       "\n",
       "   3/7/20  3/8/20  3/9/20  3/10/20  3/11/20  \n",
       "0      50      50      50       53       59  \n",
       "1     461     502     511      581      639  \n",
       "2     138     150     150      160      178  \n",
       "3       1       1       1        1        1  \n",
       "4      93      99     117      129      149  \n",
       "\n",
       "[5 rows x 54 columns]"
      ]
     },
     "execution_count": 3,
     "metadata": {},
     "output_type": "execute_result"
    }
   ],
   "source": [
    "timeseries_path = os.path.join('COVID-19', 'csse_covid_19_data', 'csse_covid_19_time_series')\n",
    "\n",
    "timeseries_deaths = pd.read_csv(os.path.join(timeseries_path, 'time_series_19-covid-Deaths.csv'))\n",
    "timeseries_recovered = pd.read_csv(os.path.join(timeseries_path, 'time_series_19-covid-Recovered.csv'))\n",
    "\n",
    "timeseries_cases = pd.read_csv(os.path.join(timeseries_path, 'time_series_19-covid-Confirmed.csv'))\n",
    "timeseries_cases.head()"
   ]
  },
  {
   "cell_type": "code",
   "execution_count": 4,
   "metadata": {},
   "outputs": [
    {
     "data": {
      "text/html": [
       "<div>\n",
       "<style scoped>\n",
       "    .dataframe tbody tr th:only-of-type {\n",
       "        vertical-align: middle;\n",
       "    }\n",
       "\n",
       "    .dataframe tbody tr th {\n",
       "        vertical-align: top;\n",
       "    }\n",
       "\n",
       "    .dataframe thead th {\n",
       "        text-align: right;\n",
       "    }\n",
       "</style>\n",
       "<table border=\"1\" class=\"dataframe\">\n",
       "  <thead>\n",
       "    <tr style=\"text-align: right;\">\n",
       "      <th></th>\n",
       "      <th>Province/State</th>\n",
       "      <th>Country/Region</th>\n",
       "      <th>Lat</th>\n",
       "      <th>Long</th>\n",
       "      <th>1/22/20</th>\n",
       "      <th>1/23/20</th>\n",
       "      <th>1/24/20</th>\n",
       "      <th>1/25/20</th>\n",
       "      <th>1/26/20</th>\n",
       "      <th>1/27/20</th>\n",
       "      <th>...</th>\n",
       "      <th>3/2/20</th>\n",
       "      <th>3/3/20</th>\n",
       "      <th>3/4/20</th>\n",
       "      <th>3/5/20</th>\n",
       "      <th>3/6/20</th>\n",
       "      <th>3/7/20</th>\n",
       "      <th>3/8/20</th>\n",
       "      <th>3/9/20</th>\n",
       "      <th>3/10/20</th>\n",
       "      <th>3/11/20</th>\n",
       "    </tr>\n",
       "  </thead>\n",
       "  <tbody>\n",
       "    <tr>\n",
       "      <th>42</th>\n",
       "      <td>NaN</td>\n",
       "      <td>Netherlands</td>\n",
       "      <td>52.1326</td>\n",
       "      <td>5.2913</td>\n",
       "      <td>0</td>\n",
       "      <td>0</td>\n",
       "      <td>0</td>\n",
       "      <td>0</td>\n",
       "      <td>0</td>\n",
       "      <td>0</td>\n",
       "      <td>...</td>\n",
       "      <td>18</td>\n",
       "      <td>24</td>\n",
       "      <td>38</td>\n",
       "      <td>82</td>\n",
       "      <td>128</td>\n",
       "      <td>188</td>\n",
       "      <td>265</td>\n",
       "      <td>321</td>\n",
       "      <td>382</td>\n",
       "      <td>503</td>\n",
       "    </tr>\n",
       "  </tbody>\n",
       "</table>\n",
       "<p>1 rows × 54 columns</p>\n",
       "</div>"
      ],
      "text/plain": [
       "   Province/State Country/Region      Lat    Long  1/22/20  1/23/20  1/24/20  \\\n",
       "42            NaN    Netherlands  52.1326  5.2913        0        0        0   \n",
       "\n",
       "    1/25/20  1/26/20  1/27/20  ...  3/2/20  3/3/20  3/4/20  3/5/20  3/6/20  \\\n",
       "42        0        0        0  ...      18      24      38      82     128   \n",
       "\n",
       "    3/7/20  3/8/20  3/9/20  3/10/20  3/11/20  \n",
       "42     188     265     321      382      503  \n",
       "\n",
       "[1 rows x 54 columns]"
      ]
     },
     "execution_count": 4,
     "metadata": {},
     "output_type": "execute_result"
    }
   ],
   "source": [
    "nl_timeseries_deaths = timeseries_deaths[timeseries_deaths['Country/Region'] == 'Netherlands']\n",
    "nl_timeseries_recovered = timeseries_recovered[timeseries_recovered['Country/Region'] == 'Netherlands']\n",
    "nl_timeseries_cases = timeseries_cases[timeseries_cases['Country/Region'] == 'Netherlands']\n",
    "nl_timeseries_cases.head()"
   ]
  },
  {
   "cell_type": "code",
   "execution_count": 5,
   "metadata": {
    "scrolled": true
   },
   "outputs": [
    {
     "data": {
      "image/png": "[encoded data removed]",
      "text/plain": [
       "<Figure size 1224x360 with 1 Axes>"
      ]
     },
     "metadata": {
      "needs_background": "light"
     },
     "output_type": "display_data"
    }
   ],
   "source": [
    "nl_timeseries_cases_day = nl_timeseries_cases.drop(['Province/State', 'Country/Region', 'Lat', 'Long'], axis=1).iloc[0]\n",
    "nl_timeseries_deaths_day = nl_timeseries_deaths.drop(['Province/State', 'Country/Region', 'Lat', 'Long'], axis=1).iloc[0]\n",
    "nl_timeseries_recovered_day = nl_timeseries_recovered.drop(['Province/State', 'Country/Region', 'Lat', 'Long'], axis=1).iloc[0]\n",
    "\n",
    "fig = plt.figure(figsize=(17,5))\n",
    "ax = fig.add_subplot(111)\n",
    "ax.plot(nl_timeseries_deaths_day, c='r')\n",
    "ax.plot(nl_timeseries_recovered_day, c='g')\n",
    "ax.plot(nl_timeseries_cases_day)\n",
    "\n",
    "plt.xticks(rotation=90)\n",
    "plt.show()"
   ]
  },
  {
   "cell_type": "code",
   "execution_count": 6,
   "metadata": {},
   "outputs": [
    {
     "name": "stderr",
     "output_type": "stream",
     "text": [
      "/Users/melvinkoopmans/anaconda/envs/tensorflow/lib/python3.6/site-packages/ipykernel/__main__.py:1: RuntimeWarning: divide by zero encountered in log\n",
      "  if __name__ == '__main__':\n"
     ]
    },
    {
     "data": {
      "image/png": "[encoded data removed]",
      "text/plain": [
       "<Figure size 1224x360 with 1 Axes>"
      ]
     },
     "metadata": {
      "needs_background": "light"
     },
     "output_type": "display_data"
    }
   ],
   "source": [
    "log_nl_timeseries_cases_day = np.log(nl_timeseries_cases_day)\n",
    "\n",
    "fig = plt.figure(figsize=(17,5))\n",
    "ax = fig.add_subplot(111)\n",
    "ax.plot(log_nl_timeseries_cases_day)\n",
    "\n",
    "plt.xticks(rotation=90)\n",
    "plt.show()"
   ]
  },
  {
   "cell_type": "code",
   "execution_count": 7,
   "metadata": {},
   "outputs": [
    {
     "name": "stdout",
     "output_type": "stream",
     "text": [
      "Amount increased by a factor of 6x in the last 7 days.\n",
      "The current growth-factor is: 1.32.\n",
      "Current rate of death is 0.01% by cases.\n",
      "Current rate of death is ?% by recovered.\n"
     ]
    }
   ],
   "source": [
    "n_days = 7\n",
    "last_n_days = nl_timeseries_cases_day[-n_days:]\n",
    "\n",
    "print('Amount increased by a factor of {}x in the last {} days.'.format(int(last_n_days[-1] / last_n_days[0]), n_days))\n",
    "print('The current growth-factor is: {}.'.format(round(last_n_days[-1] / last_n_days[-2], 2)))\n",
    "print('Current rate of death is {}% by cases.'.format(round(nl_timeseries_deaths_day.sum() / nl_timeseries_cases_day.sum(), 2)))\n",
    "print('Current rate of death is {}% by recovered.'.format('?' if nl_timeseries_recovered_day.sum() == 0 else round(nl_timeseries_deaths_day.sum() / nl_timeseries_recovered_day.sum(), 2)))"
   ]
  },
  {
   "cell_type": "code",
   "execution_count": 8,
   "metadata": {},
   "outputs": [],
   "source": [
    "from sklearn.linear_model import LinearRegression"
   ]
  },
  {
   "cell_type": "code",
   "execution_count": 9,
   "metadata": {},
   "outputs": [
    {
     "data": {
      "text/plain": [
       "LinearRegression(copy_X=True, fit_intercept=True, n_jobs=None,\n",
       "         normalize=False)"
      ]
     },
     "execution_count": 9,
     "metadata": {},
     "output_type": "execute_result"
    }
   ],
   "source": [
    "cases_from_start = log_nl_timeseries_cases_day[log_nl_timeseries_cases_day > 0]\n",
    "\n",
    "X = np.arange(1, len(cases_from_start) + 1, 1).reshape(-1, 1)\n",
    "y = cases_from_start.values\n",
    "\n",
    "log_res = LinearRegression()\n",
    "log_res.fit(X, y)"
   ]
  },
  {
   "cell_type": "code",
   "execution_count": 12,
   "metadata": {},
   "outputs": [],
   "source": [
    "from datetime import datetime, timedelta\n",
    "\n",
    "start_datetime = datetime.strptime(cases_from_start.index[0], '%m/%d/%y')\n",
    "\n",
    "days = []\n",
    "current_day = start_datetime\n",
    "\n",
    "for day in np.arange(1, len(cases_from_start) + 1 + 5):\n",
    "    current_day = current_day + timedelta(days=1)\n",
    "    days.append(current_day.strftime('%m/%d/%Y'))"
   ]
  },
  {
   "cell_type": "code",
   "execution_count": 22,
   "metadata": {},
   "outputs": [
    {
     "data": {
      "image/png": "[encoded data removed]",
      "text/plain": [
       "<Figure size 1224x360 with 1 Axes>"
      ]
     },
     "metadata": {
      "needs_background": "light"
     },
     "output_type": "display_data"
    }
   ],
   "source": [
    "predictions = log_res.predict(np.arange(len(cases_from_start), len(cases_from_start) + 1 + 5, 1).reshape(-1, 1))\n",
    "predictions = np.concatenate([cases_from_start, predictions])\n",
    "\n",
    "fig = plt.figure(figsize=(17,5))\n",
    "ax = fig.add_subplot(111)\n",
    "ax.plot(predictions, c='r', linestyle='--')\n",
    "ax.set_xticks(np.arange(1, len(cases_from_start) + 1 + 5, 1))\n",
    "ax.set_xticklabels(days)\n",
    "ax.plot(cases_from_start)\n",
    "ax.plot()\n",
    "\n",
    "plt.xticks(rotation=90)\n",
    "plt.show()"
   ]
  },
  {
   "cell_type": "code",
   "execution_count": 24,
   "metadata": {},
   "outputs": [
    {
     "name": "stdout",
     "output_type": "stream",
     "text": [
      "[1119. 1696. 2571. 3897. 5906.]\n"
     ]
    },
    {
     "data": {
      "image/png": "[encoded data removed]",
      "text/plain": [
       "<Figure size 1224x360 with 1 Axes>"
      ]
     },
     "metadata": {
      "needs_background": "light"
     },
     "output_type": "display_data"
    }
   ],
   "source": [
    "predictions_normal_scale = np.exp(predictions)\n",
    "cases_from_start_normal = np.exp(cases_from_start)\n",
    "\n",
    "fig = plt.figure(figsize=(17,5))\n",
    "ax = fig.add_subplot(111)\n",
    "ax.plot(predictions_normal_scale, c='r', linestyle='--')\n",
    "ax.set_xticks(np.arange(1, len(cases_from_start_normal) + 1 + 5, 1))\n",
    "ax.set_xticklabels(days)\n",
    "ax.plot(cases_from_start_normal)\n",
    "ax.plot()\n",
    "\n",
    "print(np.round(predictions_normal_scale[-5:]))\n",
    "plt.xticks(rotation=90)\n",
    "plt.show()"
   ]
  },
  {
   "cell_type": "code",
   "execution_count": null,
   "metadata": {},
   "outputs": [],
   "source": []
  }
 ],
 "metadata": {
  "kernelspec": {
   "display_name": "Python [conda env:tensorflow]",
   "language": "python",
   "name": "conda-env-tensorflow-py"
  },
  "language_info": {
   "codemirror_mode": {
    "name": "ipython",
    "version": 3
   },
   "file_extension": ".py",
   "mimetype": "text/x-python",
   "name": "python",
   "nbconvert_exporter": "python",
   "pygments_lexer": "ipython3",
   "version": "3.6.8"
  }
 },
 "nbformat": 4,
 "nbformat_minor": 4
}
